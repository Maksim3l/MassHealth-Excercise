{
 "cells": [
  {
   "cell_type": "markdown",
   "id": "14ebd1e7",
   "metadata": {},
   "source": [
    "# Face Recognition Model"
   ]
  },
  {
   "cell_type": "markdown",
   "id": "52deb349",
   "metadata": {
    "jp-MarkdownHeadingCollapsed": true
   },
   "source": [
    "## Setup"
   ]
  },
  {
   "cell_type": "code",
   "execution_count": null,
   "id": "b008a2d6",
   "metadata": {},
   "outputs": [],
   "source": [
    "import sys\n",
    "import subprocess\n",
    "import platform\n",
    "\n",
    "def install_packages():\n",
    "    print(f\"Python version: {sys.version}\")\n",
    "    print(f\"Platform: {platform.platform()}\")\n",
    "    \n",
    "    packages = [\n",
    "        \"pip --upgrade\",\n",
    "        \"setuptools wheel\",\n",
    "        \"numpy\",\n",
    "        \"pandas\",\n",
    "        \"matplotlib\"\n",
    "    ]\n",
    "    \n",
    "    python_version = sys.version_info\n",
    "    if python_version.major == 3 and python_version.minor >= 11:\n",
    "        print(\"\\nWARNING: TensorFlow may not be fully compatible with Python 3.11+ yet.\")\n",
    "        print(\"Consider using an alternative like TensorFlow CPU, a specific version, or another ML library.\\n\")\n",
    "        \n",
    "        tf_options = [\n",
    "            \"tensorflow==2.12.0\",\n",
    "            \"tensorflow-cpu\",\n",
    "            \"tensorflow-directml\"\n",
    "        ]\n",
    "        packages.append(tf_options)\n",
    "    else:\n",
    "        packages.append([\"tensorflow\"])\n",
    "    \n",
    "    packages.extend([\n",
    "        \"opencv-python\",\n",
    "        \"face-recognition\"\n",
    "    ])\n",
    "    \n",
    "    successful = []\n",
    "    failed = []\n",
    "    \n",
    "    for package in packages:\n",
    "        if isinstance(package, list):\n",
    "            success = False\n",
    "            for alternative in package:\n",
    "                try:\n",
    "                    print(f\"Trying to install {alternative}...\")\n",
    "                    subprocess.check_call([sys.executable, \"-m\", \"pip\", \"install\", \"--no-cache-dir\"] + alternative.split())\n",
    "                    successful.append(alternative)\n",
    "                    success = True\n",
    "                    break\n",
    "                except subprocess.CalledProcessError:\n",
    "                    print(f\"Failed to install {alternative}, trying alternatives...\")\n",
    "            \n",
    "            if not success:\n",
    "                failed.append(\"/\".join(package))\n",
    "        else:\n",
    "            try:\n",
    "                print(f\"Installing {package}...\")\n",
    "                subprocess.check_call([sys.executable, \"-m\", \"pip\", \"install\", \"--no-cache-dir\"] + package.split())\n",
    "                successful.append(package)\n",
    "            except subprocess.CalledProcessError as e:\n",
    "                print(f\"Error installing {package}: {e}\")\n",
    "                failed.append(package)\n",
    "    \n",
    "    print(\"\\n=== Installation Summary ===\")\n",
    "    print(f\"Successfully installed: {len(successful)}/{len(packages) + len([p for p in packages if isinstance(p, list)]) - 1}\")\n",
    "    \n",
    "    if successful:\n",
    "        print(\"\\nSuccessful:\")\n",
    "        for pkg in successful:\n",
    "            print(f\"- {pkg}\")\n",
    "    \n",
    "    if failed:\n",
    "        print(\"\\nFailed:\")\n",
    "        for pkg in failed:\n",
    "            print(f\"- {pkg}\")\n",
    "        \n",
    "        print(\"\\nTroubleshooting tips:\")\n",
    "        print(\"1. For TensorFlow: Check compatibility with your Python version\")\n",
    "        print(\"2. Try creating a virtual environment with a compatible Python version\")\n",
    "        print(\"3. For face-recognition: Make sure you have a C++ compiler installed\")\n",
    "        print(\"4. Consider installing packages individually with specific versions\")\n",
    "\n",
    "if __name__ == \"__main__\":\n",
    "    install_packages()"
   ]
  },
  {
   "cell_type": "markdown",
   "id": "1df77a32",
   "metadata": {},
   "source": [
    "## Preprocess"
   ]
  },
  {
   "cell_type": "code",
   "execution_count": null,
   "id": "0ea27476",
   "metadata": {},
   "outputs": [],
   "source": [
    "import cv2\n",
    "import os\n",
    "import random\n",
    "import numpy as np\n",
    "from matplotlib import pyplot as plt\n",
    "from tensorflow.keras.model import Model\n",
    "from tensorflow.\n"
   ]
  },
  {
   "cell_type": "markdown",
   "id": "911c2145",
   "metadata": {},
   "source": [
    "## Model"
   ]
  },
  {
   "cell_type": "code",
   "execution_count": null,
   "id": "7090c0aa",
   "metadata": {},
   "outputs": [],
   "source": []
  }
 ],
 "metadata": {
  "kernelspec": {
   "display_name": "Python (tensorflow_env)",
   "language": "python",
   "name": "tensorflow_env"
  },
  "language_info": {
   "codemirror_mode": {
    "name": "ipython",
    "version": 3
   },
   "file_extension": ".py",
   "mimetype": "text/x-python",
   "name": "python",
   "nbconvert_exporter": "python",
   "pygments_lexer": "ipython3",
   "version": "3.12.1"
  }
 },
 "nbformat": 4,
 "nbformat_minor": 5
}
