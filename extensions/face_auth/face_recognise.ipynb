{
 "cells": [
  {
   "cell_type": "markdown",
   "id": "14ebd1e7",
   "metadata": {},
   "source": [
    "# Face Recognition Model"
   ]
  },
  {
   "cell_type": "markdown",
   "id": "52deb349",
   "metadata": {
    "jp-MarkdownHeadingCollapsed": true
   },
   "source": [
    "## Setup"
   ]
  },
  {
   "cell_type": "code",
   "execution_count": 137,
   "id": "0ea27476",
   "metadata": {},
   "outputs": [],
   "source": [
    "import cv2\n",
    "import os\n",
    "import random\n",
    "import numpy as np\n",
    "from matplotlib import pyplot as plt\n",
    "import tensorflow as tf\n",
    "from tensorflow.keras.models import Model\n",
    "from tensorflow.keras.layers import Layer, Conv2D, Dense, MaxPooling2D, Input, Flatten\n",
    "import shutil\n",
    "from pathlib import Path\n",
    "import re\n",
    "import uuid\n",
    "from tensorflow.keras.metrics import Precision, Recall"
   ]
  },
  {
   "cell_type": "code",
   "execution_count": 138,
   "id": "1aa2a4b6",
   "metadata": {},
   "outputs": [],
   "source": [
    "# Model(inputs = [inputImg, veriImg], outputs = [1,0] )"
   ]
  },
  {
   "cell_type": "code",
   "execution_count": 139,
   "id": "6633a365",
   "metadata": {},
   "outputs": [],
   "source": [
    "gpus = tf.config.experimental.list_physical_devices('GPI')\n",
    "for gpu in gpus:\n",
    "    tf.config.experimental.set_memory_growth(gpu, True)"
   ]
  },
  {
   "cell_type": "code",
   "execution_count": 140,
   "id": "12e485f9",
   "metadata": {},
   "outputs": [],
   "source": [
    "POS = os.path.join('data', 'positive')\n",
    "NEG = os.path.join('data', 'negative')\n",
    "ANC = os.path.join('data', 'anchor')"
   ]
  },
  {
   "cell_type": "markdown",
   "id": "1df77a32",
   "metadata": {},
   "source": [
    "## Preprocess"
   ]
  },
  {
   "cell_type": "markdown",
   "id": "b6831fe7",
   "metadata": {},
   "source": [
    "### Data gathering"
   ]
  },
  {
   "cell_type": "code",
   "execution_count": null,
   "id": "ccc303aa",
   "metadata": {},
   "outputs": [],
   "source": [
    "def consolidate_images(source_dir):\n",
    "    if not os.path.exists(source_dir):\n",
    "        print(f\"Creating directory: {source_dir}\")\n",
    "        os.makedirs(source_dir)\n",
    "\n",
    "    subfolders = [f.path for f in os.scandir(source_dir) if f.is_dir()]\n",
    "    \n",
    "    if not subfolders:\n",
    "        print(f\"No subfolders found in {source_dir}\")\n",
    "        return\n",
    "\n",
    "    image_extensions = ('.jpg', '.jpeg', '.png', '.gif', '.bmp')\n",
    "   \n",
    "    copied_count = 0\n",
    "\n",
    "    processed_folders = []\n",
    "   \n",
    "    for folder in subfolders:\n",
    "        print(f\"Processing folder: {folder}\")\n",
    "        folder_processed = False\n",
    "       \n",
    "        for root, dirs, files in os.walk(folder):\n",
    "            for file in files:\n",
    "                if file.lower().endswith(image_extensions):\n",
    "                    source_path = os.path.join(root, file)\n",
    "                    base_name = os.path.splitext(file)[0]\n",
    "                    extension = os.path.splitext(file)[1]\n",
    "                    counter = 1\n",
    "                    dest_file = file\n",
    "                   \n",
    "                    while os.path.exists(os.path.join(source_dir, dest_file)):\n",
    "                        dest_file = f\"{base_name}_{counter}{extension}\"\n",
    "                        counter += 1\n",
    "                   \n",
    "                    dest_path = os.path.join(source_dir, dest_file)\n",
    "                   \n",
    "                    try:\n",
    "                        shutil.copy2(source_path, dest_path)\n",
    "                        copied_count += 1\n",
    "                        folder_processed = True\n",
    "                    except Exception as e:\n",
    "                        print(f\"Error copying {file}: {str(e)}\")\n",
    "        \n",
    "        if folder_processed:\n",
    "            processed_folders.append(folder)\n",
    "    \n",
    "    print(f\"\\nTotal images copied: {copied_count}\")\n",
    "    \n",
    "    if processed_folders:\n",
    "        print(\"\\nDeleting processed folders:\")\n",
    "        for folder in processed_folders:\n",
    "            try:\n",
    "                shutil.rmtree(folder)\n",
    "                print(f\"Deleted: {folder}\")\n",
    "            except Exception as e:\n",
    "                print(f\"Error deleting {folder}: {str(e)}\")\n",
    "\n",
    "consolidate_images(NEG)"
   ]
  },
  {
   "cell_type": "code",
   "execution_count": null,
   "id": "37c0e4f2",
   "metadata": {},
   "outputs": [],
   "source": [
    "# Correcting function because I messed up the top one and did it twice once with folder deleting and once without lol\n",
    "def remove_duplicate_images(directory):\n",
    "    if not os.path.exists(directory):\n",
    "        print(f\"Error: Directory '{directory}' does not exist.\")\n",
    "        return\n",
    "    \n",
    "    files = os.listdir(directory)\n",
    "    files_to_delete = []\n",
    "    pattern = re.compile(r'^(.+)_1(\\.[^.]+)$')\n",
    "    deleted_count = 0\n",
    "    \n",
    "    print(f\"Scanning directory: {directory}\")\n",
    "\n",
    "    for file in files:\n",
    "        match = pattern.match(file)\n",
    "        if match:\n",
    "            base_name = match.group(1)\n",
    "            extension = match.group(2)\n",
    "            original_file = f\"{base_name}{extension}\"\n",
    "            if original_file in files:\n",
    "                files_to_delete.append(file)\n",
    "\n",
    "    for file in files_to_delete:\n",
    "        try:\n",
    "            file_path = os.path.join(directory, file)\n",
    "            os.remove(file_path)\n",
    "            print(f\"Deleted: {file}\")\n",
    "            deleted_count += 1\n",
    "        except Exception as e:\n",
    "            print(f\"Error deleting {file}: {str(e)}\")\n",
    "    \n",
    "    print(f\"\\nTotal duplicate files deleted: {deleted_count}\")\n",
    "\n",
    "remove_duplicate_images(NEG)"
   ]
  },
  {
   "cell_type": "code",
   "execution_count": null,
   "id": "60d5eb40",
   "metadata": {},
   "outputs": [],
   "source": [
    "cap = cv2.VideoCapture(0)\n",
    "while cap.isOpened():\n",
    "    ret, frame = cap.read()\n",
    "    \n",
    "    if not ret:\n",
    "        print(\"Failed to grab frame\")\n",
    "        break\n",
    "\n",
    "    frame = frame[120:120+250, 200:200+250, :]\n",
    "    cv2.imshow('Image Collection', frame)\n",
    "    key = cv2.waitKey(1) & 0xFF\n",
    "    if key == ord('a'):\n",
    "        img_name = os.path.join(ANC, f'{uuid.uuid1()}.jpg')\n",
    "        cv2.imwrite(img_name, frame)\n",
    "        print(f\"Saved anchor image: {img_name}\")\n",
    "    elif key == ord('p'):\n",
    "        img_name = os.path.join(POS, f'{uuid.uuid1()}.jpg')\n",
    "        cv2.imwrite(img_name, frame)\n",
    "        print(f\"Saved positive image: {img_name}\")\n",
    "    elif key == ord('q'):\n",
    "        print(\"Quitting...\")\n",
    "        break\n",
    "    \n",
    "cap.release()\n",
    "cv2.destroyAllWindows()"
   ]
  },
  {
   "cell_type": "markdown",
   "id": "6a1688e1",
   "metadata": {},
   "source": [
    "### Preprocess"
   ]
  },
  {
   "cell_type": "code",
   "execution_count": 68,
   "id": "f3a05d4e",
   "metadata": {},
   "outputs": [
    {
     "name": "stderr",
     "output_type": "stream",
     "text": [
      "<>:1: SyntaxWarning: invalid escape sequence '\\*'\n",
      "<>:2: SyntaxWarning: invalid escape sequence '\\*'\n",
      "<>:3: SyntaxWarning: invalid escape sequence '\\*'\n",
      "<>:1: SyntaxWarning: invalid escape sequence '\\*'\n",
      "<>:2: SyntaxWarning: invalid escape sequence '\\*'\n",
      "<>:3: SyntaxWarning: invalid escape sequence '\\*'\n",
      "C:\\Users\\lokna\\AppData\\Local\\Temp\\ipykernel_31980\\2097756147.py:1: SyntaxWarning: invalid escape sequence '\\*'\n",
      "  anchor = tf.data.Dataset.list_files(ANC+'\\*.jpg').take(300)\n",
      "C:\\Users\\lokna\\AppData\\Local\\Temp\\ipykernel_31980\\2097756147.py:2: SyntaxWarning: invalid escape sequence '\\*'\n",
      "  positive = tf.data.Dataset.list_files(POS+'\\*.jpg').take(300)\n",
      "C:\\Users\\lokna\\AppData\\Local\\Temp\\ipykernel_31980\\2097756147.py:3: SyntaxWarning: invalid escape sequence '\\*'\n",
      "  negative = tf.data.Dataset.list_files(NEG+'\\*.jpg').take(300)\n"
     ]
    }
   ],
   "source": [
    "anchor = tf.data.Dataset.list_files(ANC+'\\*.jpg').take(300)\n",
    "positive = tf.data.Dataset.list_files(POS+'\\*.jpg').take(300)\n",
    "negative = tf.data.Dataset.list_files(NEG+'\\*.jpg').take(300)"
   ]
  },
  {
   "cell_type": "code",
   "execution_count": 69,
   "id": "c9d3156f",
   "metadata": {},
   "outputs": [],
   "source": [
    "dir_test = anchor.as_numpy_iterator()"
   ]
  },
  {
   "cell_type": "code",
   "execution_count": 70,
   "id": "595c8e84",
   "metadata": {},
   "outputs": [],
   "source": [
    "def preprocess(img_path):\n",
    "    byte_img = tf.io.read_file(img_path)\n",
    "    img = tf.io.decode_jpeg(byte_img)\n",
    "    img = tf.image.resize(img,(100,100))\n",
    "    img = img/255\n",
    "    return img"
   ]
  },
  {
   "cell_type": "code",
   "execution_count": 71,
   "id": "e20f876f",
   "metadata": {},
   "outputs": [],
   "source": [
    "positives = tf.data.Dataset.zip((anchor, positive, tf.data.Dataset.from_tensor_slices(tf.ones(len(anchor)))))\n",
    "negatives = tf.data.Dataset.zip((anchor, negative, tf.data.Dataset.from_tensor_slices(tf.zeros(len(anchor)))))\n",
    "data = positives.concatenate(negatives)"
   ]
  },
  {
   "cell_type": "code",
   "execution_count": 72,
   "id": "7adda82f",
   "metadata": {},
   "outputs": [],
   "source": [
    "def preproc_twin(in_img, valid_img, label):\n",
    "    return(preprocess(in_img), preprocess(valid_img), label)"
   ]
  },
  {
   "cell_type": "code",
   "execution_count": 73,
   "id": "123f19d6",
   "metadata": {},
   "outputs": [],
   "source": [
    "data = data.map(preproc_twin)\n",
    "data = data.cache()\n",
    "data = data.shuffle(buffer_size=1024)"
   ]
  },
  {
   "cell_type": "code",
   "execution_count": 74,
   "id": "184efee5",
   "metadata": {},
   "outputs": [],
   "source": [
    "train_data = data.take(round(len(data)*0.7))\n",
    "train_data = train_data.batch(16)\n",
    "train_data = train_data.prefetch(8)"
   ]
  },
  {
   "cell_type": "code",
   "execution_count": 75,
   "id": "a87ab303",
   "metadata": {},
   "outputs": [],
   "source": [
    "test_data = data.skip(round(len(data)*0.7))\n",
    "test_data = test_data.take(round(len(data)*0.3))\n",
    "test_data = test_data.batch(16)\n",
    "test_data = test_data.prefetch(8)"
   ]
  },
  {
   "cell_type": "markdown",
   "id": "911c2145",
   "metadata": {},
   "source": [
    "## Model"
   ]
  },
  {
   "cell_type": "markdown",
   "id": "4c65e9f2",
   "metadata": {},
   "source": [
    "### Building"
   ]
  },
  {
   "cell_type": "code",
   "execution_count": 107,
   "id": "7090c0aa",
   "metadata": {},
   "outputs": [],
   "source": [
    "def embeding_make():\n",
    "    in_ = Input(shape=(100,100,3), name=\"in img\")\n",
    "\n",
    "    c1 = Conv2D(64, (10,10), activation='relu')(in_)\n",
    "    p1 = MaxPooling2D(64, (2,2), padding='same')(c1)\n",
    "\n",
    "    c2 = Conv2D(128, (7,7), activation='relu')(p1)\n",
    "    p2 = MaxPooling2D(64, (2,2), padding='same')(c2)\n",
    "    \n",
    "    c3 = Conv2D(128, (4,4), activation='relu')(p2)\n",
    "    p3 = MaxPooling2D(64, (2,2), padding='same')(c3)\n",
    "\n",
    "    c4 = Conv2D(256, (4,4), activation='relu')(p3)\n",
    "    f1 = Flatten()(c4)\n",
    "    d1 = Dense(4096,activation='sigmoid')(f1)\n",
    "\n",
    "    return Model(inputs=in_, outputs=d1, name='embedding')"
   ]
  },
  {
   "cell_type": "code",
   "execution_count": 108,
   "id": "044e60c4",
   "metadata": {},
   "outputs": [],
   "source": [
    "embedding = embeding_make()"
   ]
  },
  {
   "cell_type": "code",
   "execution_count": 109,
   "id": "862d3294",
   "metadata": {},
   "outputs": [],
   "source": [
    "class L1Dist(Layer):\n",
    "    def __init__(self, **kwargs):\n",
    "        super().__init__()\n",
    "\n",
    "    def call(self, in_embed, valid_embed):\n",
    "        return tf.math.abs(in_embed - valid_embed)"
   ]
  },
  {
   "cell_type": "code",
   "execution_count": 110,
   "id": "e7e57168",
   "metadata": {},
   "outputs": [],
   "source": [
    "def make_model(): #Simanese\n",
    "    input_img = Input(name='input_img', shape=(100,100,3))\n",
    "    validation_img = Input(name='validation_img', shape=(100,100,3))\n",
    "\n",
    "    model_layer = L1Dist()\n",
    "    model_layer.name = 'distance'\n",
    "    distances = model_layer(embedding(input_img), embedding(validation_img))\n",
    "\n",
    "    classifier = Dense(1,activation='sigmoid')(distances)\n",
    "\n",
    "    return Model(inputs=[input_img, validation_img], outputs=classifier, name='SimaneseNetwork')"
   ]
  },
  {
   "cell_type": "code",
   "execution_count": 118,
   "id": "ea5b92fd",
   "metadata": {},
   "outputs": [],
   "source": [
    "siamese_model = make_model()"
   ]
  },
  {
   "cell_type": "markdown",
   "id": "ba78180c",
   "metadata": {},
   "source": [
    "### Training"
   ]
  },
  {
   "cell_type": "code",
   "execution_count": 119,
   "id": "96043ec9",
   "metadata": {},
   "outputs": [],
   "source": [
    "binary_cross_loss = tf.losses.BinaryCrossentropy()\n",
    "opt = tf.keras.optimizers.Adam(1e-4)"
   ]
  },
  {
   "cell_type": "code",
   "execution_count": null,
   "id": "20f69853",
   "metadata": {},
   "outputs": [],
   "source": [
    "checkpoints = './training_checkpoints'\n",
    "checkpoint_prefix = os.path.join(checkpoints, 'ckpt')\n",
    "checkpoint = tf.train.Checkpoint(opt=opt, siamese_model=siamese_model)"
   ]
  },
  {
   "cell_type": "code",
   "execution_count": 132,
   "id": "fc42fb7f",
   "metadata": {},
   "outputs": [],
   "source": [
    "@tf.function\n",
    "def t_step(batch):\n",
    "    with tf.GradientTape() as tape:  \n",
    "        X = batch[:2]\n",
    "        y = batch[2]\n",
    "        yhat = siamese_model(X, training=True)\n",
    "        loss = binary_cross_loss(y, yhat)\n",
    "    \n",
    "    grad = tape.gradient(loss, siamese_model.trainable_variables)\n",
    "    opt.apply_gradients(zip(grad, siamese_model.trainable_variables))\n",
    "    return loss"
   ]
  },
  {
   "cell_type": "code",
   "execution_count": null,
   "id": "4e7a307d",
   "metadata": {},
   "outputs": [],
   "source": [
    "def train(data, epochs):\n",
    "    for epoch in range(1, epochs+1):\n",
    "        print('\\n Epoch {}/{}'.format(epoch, epochs))\n",
    "        progbar = tf.keras.utils.Progbar(len(data))  \n",
    "        for idx, batch in enumerate(data): \n",
    "            t_step(batch)\n",
    "            progbar.update(idx+1)\n",
    "        \n",
    "        if epoch % 10 == 0:\n",
    "            checkpoint.save(file_prefix=checkpoint_prefix) "
   ]
  },
  {
   "cell_type": "code",
   "execution_count": 134,
   "id": "fb2ec2cb",
   "metadata": {},
   "outputs": [],
   "source": [
    "epochs = 50"
   ]
  },
  {
   "cell_type": "code",
   "execution_count": 136,
   "id": "caa7ac68",
   "metadata": {},
   "outputs": [
    {
     "name": "stdout",
     "output_type": "stream",
     "text": [
      "\n",
      " Epoch 1/50\n",
      "\u001b[1m27/27\u001b[0m \u001b[32m━━━━━━━━━━━━━━━━━━━━\u001b[0m\u001b[37m\u001b[0m \u001b[1m51s\u001b[0m 2s/step\n",
      "\n",
      " Epoch 2/50\n",
      "\u001b[1m27/27\u001b[0m \u001b[32m━━━━━━━━━━━━━━━━━━━━\u001b[0m\u001b[37m\u001b[0m \u001b[1m48s\u001b[0m 2s/step\n",
      "\n",
      " Epoch 3/50\n",
      "\u001b[1m27/27\u001b[0m \u001b[32m━━━━━━━━━━━━━━━━━━━━\u001b[0m\u001b[37m\u001b[0m \u001b[1m51s\u001b[0m 2s/step\n",
      "\n",
      " Epoch 4/50\n",
      "\u001b[1m27/27\u001b[0m \u001b[32m━━━━━━━━━━━━━━━━━━━━\u001b[0m\u001b[37m\u001b[0m \u001b[1m42s\u001b[0m 2s/step\n",
      "\n",
      " Epoch 5/50\n",
      "\u001b[1m27/27\u001b[0m \u001b[32m━━━━━━━━━━━━━━━━━━━━\u001b[0m\u001b[37m\u001b[0m \u001b[1m48s\u001b[0m 2s/step\n",
      "\n",
      " Epoch 6/50\n",
      "\u001b[1m27/27\u001b[0m \u001b[32m━━━━━━━━━━━━━━━━━━━━\u001b[0m\u001b[37m\u001b[0m \u001b[1m48s\u001b[0m 2s/step\n",
      "\n",
      " Epoch 7/50\n",
      "\u001b[1m27/27\u001b[0m \u001b[32m━━━━━━━━━━━━━━━━━━━━\u001b[0m\u001b[37m\u001b[0m \u001b[1m49s\u001b[0m 2s/step\n",
      "\n",
      " Epoch 8/50\n",
      "\u001b[1m27/27\u001b[0m \u001b[32m━━━━━━━━━━━━━━━━━━━━\u001b[0m\u001b[37m\u001b[0m \u001b[1m54s\u001b[0m 2s/step\n",
      "\n",
      " Epoch 9/50\n",
      "\u001b[1m27/27\u001b[0m \u001b[32m━━━━━━━━━━━━━━━━━━━━\u001b[0m\u001b[37m\u001b[0m \u001b[1m55s\u001b[0m 2s/step\n",
      "\n",
      " Epoch 10/50\n",
      "\u001b[1m27/27\u001b[0m \u001b[32m━━━━━━━━━━━━━━━━━━━━\u001b[0m\u001b[37m\u001b[0m \u001b[1m53s\u001b[0m 2s/step\n",
      "\n",
      " Epoch 11/50\n",
      "\u001b[1m27/27\u001b[0m \u001b[32m━━━━━━━━━━━━━━━━━━━━\u001b[0m\u001b[37m\u001b[0m \u001b[1m51s\u001b[0m 2s/step\n",
      "\n",
      " Epoch 12/50\n",
      "\u001b[1m27/27\u001b[0m \u001b[32m━━━━━━━━━━━━━━━━━━━━\u001b[0m\u001b[37m\u001b[0m \u001b[1m50s\u001b[0m 2s/step\n",
      "\n",
      " Epoch 13/50\n",
      "\u001b[1m27/27\u001b[0m \u001b[32m━━━━━━━━━━━━━━━━━━━━\u001b[0m\u001b[37m\u001b[0m \u001b[1m55s\u001b[0m 2s/step\n",
      "\n",
      " Epoch 14/50\n",
      "\u001b[1m27/27\u001b[0m \u001b[32m━━━━━━━━━━━━━━━━━━━━\u001b[0m\u001b[37m\u001b[0m \u001b[1m50s\u001b[0m 2s/step\n",
      "\n",
      " Epoch 15/50\n",
      "\u001b[1m27/27\u001b[0m \u001b[32m━━━━━━━━━━━━━━━━━━━━\u001b[0m\u001b[37m\u001b[0m \u001b[1m46s\u001b[0m 2s/step\n",
      "\n",
      " Epoch 16/50\n",
      "\u001b[1m27/27\u001b[0m \u001b[32m━━━━━━━━━━━━━━━━━━━━\u001b[0m\u001b[37m\u001b[0m \u001b[1m51s\u001b[0m 2s/step\n",
      "\n",
      " Epoch 17/50\n",
      "\u001b[1m27/27\u001b[0m \u001b[32m━━━━━━━━━━━━━━━━━━━━\u001b[0m\u001b[37m\u001b[0m \u001b[1m51s\u001b[0m 2s/step\n",
      "\n",
      " Epoch 18/50\n",
      "\u001b[1m27/27\u001b[0m \u001b[32m━━━━━━━━━━━━━━━━━━━━\u001b[0m\u001b[37m\u001b[0m \u001b[1m60s\u001b[0m 2s/step\n",
      "\n",
      " Epoch 19/50\n",
      "\u001b[1m27/27\u001b[0m \u001b[32m━━━━━━━━━━━━━━━━━━━━\u001b[0m\u001b[37m\u001b[0m \u001b[1m66s\u001b[0m 2s/step\n",
      "\n",
      " Epoch 20/50\n",
      "\u001b[1m27/27\u001b[0m \u001b[32m━━━━━━━━━━━━━━━━━━━━\u001b[0m\u001b[37m\u001b[0m \u001b[1m51s\u001b[0m 2s/step\n",
      "\n",
      " Epoch 21/50\n",
      "\u001b[1m27/27\u001b[0m \u001b[32m━━━━━━━━━━━━━━━━━━━━\u001b[0m\u001b[37m\u001b[0m \u001b[1m59s\u001b[0m 2s/step\n",
      "\n",
      " Epoch 22/50\n",
      "\u001b[1m27/27\u001b[0m \u001b[32m━━━━━━━━━━━━━━━━━━━━\u001b[0m\u001b[37m\u001b[0m \u001b[1m58s\u001b[0m 2s/step\n",
      "\n",
      " Epoch 23/50\n",
      "\u001b[1m27/27\u001b[0m \u001b[32m━━━━━━━━━━━━━━━━━━━━\u001b[0m\u001b[37m\u001b[0m \u001b[1m59s\u001b[0m 2s/step\n",
      "\n",
      " Epoch 24/50\n",
      "\u001b[1m27/27\u001b[0m \u001b[32m━━━━━━━━━━━━━━━━━━━━\u001b[0m\u001b[37m\u001b[0m \u001b[1m57s\u001b[0m 2s/step\n",
      "\n",
      " Epoch 25/50\n",
      "\u001b[1m27/27\u001b[0m \u001b[32m━━━━━━━━━━━━━━━━━━━━\u001b[0m\u001b[37m\u001b[0m \u001b[1m56s\u001b[0m 2s/step\n",
      "\n",
      " Epoch 26/50\n",
      "\u001b[1m27/27\u001b[0m \u001b[32m━━━━━━━━━━━━━━━━━━━━\u001b[0m\u001b[37m\u001b[0m \u001b[1m57s\u001b[0m 2s/step\n",
      "\n",
      " Epoch 27/50\n",
      "\u001b[1m27/27\u001b[0m \u001b[32m━━━━━━━━━━━━━━━━━━━━\u001b[0m\u001b[37m\u001b[0m \u001b[1m59s\u001b[0m 2s/step\n",
      "\n",
      " Epoch 28/50\n",
      "\u001b[1m27/27\u001b[0m \u001b[32m━━━━━━━━━━━━━━━━━━━━\u001b[0m\u001b[37m\u001b[0m \u001b[1m56s\u001b[0m 2s/step\n",
      "\n",
      " Epoch 29/50\n",
      "\u001b[1m27/27\u001b[0m \u001b[32m━━━━━━━━━━━━━━━━━━━━\u001b[0m\u001b[37m\u001b[0m \u001b[1m54s\u001b[0m 2s/step\n",
      "\n",
      " Epoch 30/50\n",
      "\u001b[1m27/27\u001b[0m \u001b[32m━━━━━━━━━━━━━━━━━━━━\u001b[0m\u001b[37m\u001b[0m \u001b[1m48s\u001b[0m 2s/step\n",
      "\n",
      " Epoch 31/50\n",
      "\u001b[1m27/27\u001b[0m \u001b[32m━━━━━━━━━━━━━━━━━━━━\u001b[0m\u001b[37m\u001b[0m \u001b[1m48s\u001b[0m 2s/step\n",
      "\n",
      " Epoch 32/50\n",
      "\u001b[1m27/27\u001b[0m \u001b[32m━━━━━━━━━━━━━━━━━━━━\u001b[0m\u001b[37m\u001b[0m \u001b[1m52s\u001b[0m 2s/step\n",
      "\n",
      " Epoch 33/50\n",
      "\u001b[1m27/27\u001b[0m \u001b[32m━━━━━━━━━━━━━━━━━━━━\u001b[0m\u001b[37m\u001b[0m \u001b[1m57s\u001b[0m 2s/step\n",
      "\n",
      " Epoch 34/50\n",
      "\u001b[1m27/27\u001b[0m \u001b[32m━━━━━━━━━━━━━━━━━━━━\u001b[0m\u001b[37m\u001b[0m \u001b[1m51s\u001b[0m 2s/step\n",
      "\n",
      " Epoch 35/50\n",
      "\u001b[1m27/27\u001b[0m \u001b[32m━━━━━━━━━━━━━━━━━━━━\u001b[0m\u001b[37m\u001b[0m \u001b[1m55s\u001b[0m 2s/step\n",
      "\n",
      " Epoch 36/50\n",
      "\u001b[1m27/27\u001b[0m \u001b[32m━━━━━━━━━━━━━━━━━━━━\u001b[0m\u001b[37m\u001b[0m \u001b[1m51s\u001b[0m 2s/step\n",
      "\n",
      " Epoch 37/50\n",
      "\u001b[1m27/27\u001b[0m \u001b[32m━━━━━━━━━━━━━━━━━━━━\u001b[0m\u001b[37m\u001b[0m \u001b[1m58s\u001b[0m 2s/step\n",
      "\n",
      " Epoch 38/50\n",
      "\u001b[1m27/27\u001b[0m \u001b[32m━━━━━━━━━━━━━━━━━━━━\u001b[0m\u001b[37m\u001b[0m \u001b[1m59s\u001b[0m 2s/step\n",
      "\n",
      " Epoch 39/50\n",
      "\u001b[1m27/27\u001b[0m \u001b[32m━━━━━━━━━━━━━━━━━━━━\u001b[0m\u001b[37m\u001b[0m \u001b[1m49s\u001b[0m 2s/step\n",
      "\n",
      " Epoch 40/50\n",
      "\u001b[1m27/27\u001b[0m \u001b[32m━━━━━━━━━━━━━━━━━━━━\u001b[0m\u001b[37m\u001b[0m \u001b[1m47s\u001b[0m 2s/step\n",
      "\n",
      " Epoch 41/50\n",
      "\u001b[1m27/27\u001b[0m \u001b[32m━━━━━━━━━━━━━━━━━━━━\u001b[0m\u001b[37m\u001b[0m \u001b[1m52s\u001b[0m 2s/step\n",
      "\n",
      " Epoch 42/50\n",
      "\u001b[1m27/27\u001b[0m \u001b[32m━━━━━━━━━━━━━━━━━━━━\u001b[0m\u001b[37m\u001b[0m \u001b[1m50s\u001b[0m 2s/step\n",
      "\n",
      " Epoch 43/50\n",
      "\u001b[1m27/27\u001b[0m \u001b[32m━━━━━━━━━━━━━━━━━━━━\u001b[0m\u001b[37m\u001b[0m \u001b[1m41s\u001b[0m 2s/step\n",
      "\n",
      " Epoch 44/50\n",
      "\u001b[1m27/27\u001b[0m \u001b[32m━━━━━━━━━━━━━━━━━━━━\u001b[0m\u001b[37m\u001b[0m \u001b[1m41s\u001b[0m 2s/step\n",
      "\n",
      " Epoch 45/50\n",
      "\u001b[1m27/27\u001b[0m \u001b[32m━━━━━━━━━━━━━━━━━━━━\u001b[0m\u001b[37m\u001b[0m \u001b[1m40s\u001b[0m 1s/step\n",
      "\n",
      " Epoch 46/50\n",
      "\u001b[1m27/27\u001b[0m \u001b[32m━━━━━━━━━━━━━━━━━━━━\u001b[0m\u001b[37m\u001b[0m \u001b[1m41s\u001b[0m 2s/step\n",
      "\n",
      " Epoch 47/50\n",
      "\u001b[1m27/27\u001b[0m \u001b[32m━━━━━━━━━━━━━━━━━━━━\u001b[0m\u001b[37m\u001b[0m \u001b[1m40s\u001b[0m 1s/step\n",
      "\n",
      " Epoch 48/50\n",
      "\u001b[1m27/27\u001b[0m \u001b[32m━━━━━━━━━━━━━━━━━━━━\u001b[0m\u001b[37m\u001b[0m \u001b[1m41s\u001b[0m 2s/step\n",
      "\n",
      " Epoch 49/50\n",
      "\u001b[1m27/27\u001b[0m \u001b[32m━━━━━━━━━━━━━━━━━━━━\u001b[0m\u001b[37m\u001b[0m \u001b[1m41s\u001b[0m 2s/step\n",
      "\n",
      " Epoch 50/50\n",
      "\u001b[1m27/27\u001b[0m \u001b[32m━━━━━━━━━━━━━━━━━━━━\u001b[0m\u001b[37m\u001b[0m \u001b[1m40s\u001b[0m 1s/step\n"
     ]
    }
   ],
   "source": [
    "train(train_data, epochs)"
   ]
  },
  {
   "cell_type": "markdown",
   "id": "29346b68",
   "metadata": {},
   "source": [
    "### Test / Evaluate model"
   ]
  },
  {
   "cell_type": "code",
   "execution_count": 142,
   "id": "5da9287d",
   "metadata": {},
   "outputs": [
    {
     "name": "stdout",
     "output_type": "stream",
     "text": [
      "\u001b[1m1/1\u001b[0m \u001b[32m━━━━━━━━━━━━━━━━━━━━\u001b[0m\u001b[37m\u001b[0m \u001b[1m1s\u001b[0m 579ms/step\n"
     ]
    }
   ],
   "source": [
    "test_in, test_val, y_true = test_data.as_numpy_iterator().next()\n",
    "y_hat = siamese_model.predict([test_in, test_val])"
   ]
  },
  {
   "cell_type": "code",
   "execution_count": 143,
   "id": "3b3f9199",
   "metadata": {},
   "outputs": [
    {
     "data": {
      "text/plain": [
       "[0, 0, 0, 0, 0, 1, 1, 0, 1, 1, 1, 1, 1, 0, 1, 1]"
      ]
     },
     "execution_count": 143,
     "metadata": {},
     "output_type": "execute_result"
    }
   ],
   "source": [
    "[1 if prediction > 0.5 else 0 for prediction in y_hat]"
   ]
  },
  {
   "cell_type": "code",
   "execution_count": 144,
   "id": "ffc6a6e2",
   "metadata": {},
   "outputs": [
    {
     "data": {
      "text/plain": [
       "array([0., 0., 0., 0., 0., 1., 1., 0., 1., 1., 1., 1., 1., 0., 1., 1.],\n",
       "      dtype=float32)"
      ]
     },
     "execution_count": 144,
     "metadata": {},
     "output_type": "execute_result"
    }
   ],
   "source": [
    "y_true"
   ]
  },
  {
   "cell_type": "code",
   "execution_count": 145,
   "id": "1e706660",
   "metadata": {},
   "outputs": [
    {
     "data": {
      "text/plain": [
       "np.float32(1.0)"
      ]
     },
     "execution_count": 145,
     "metadata": {},
     "output_type": "execute_result"
    }
   ],
   "source": [
    "m = Recall()\n",
    "m.update_state(y_true, y_hat)\n",
    "m.result().numpy()"
   ]
  },
  {
   "cell_type": "code",
   "execution_count": 147,
   "id": "48ba95f9",
   "metadata": {},
   "outputs": [
    {
     "data": {
      "text/plain": [
       "np.float32(1.0)"
      ]
     },
     "execution_count": 147,
     "metadata": {},
     "output_type": "execute_result"
    }
   ],
   "source": [
    "m = Precision()\n",
    "m.update_state(y_true, y_hat)\n",
    "m.result().numpy()"
   ]
  },
  {
   "cell_type": "code",
   "execution_count": 148,
   "id": "e62cbb72",
   "metadata": {},
   "outputs": [
    {
     "data": {
      "image/png": "[encoded data removed]",
      "text/plain": [
       "<Figure size 1000x800 with 2 Axes>"
      ]
     },
     "metadata": {},
     "output_type": "display_data"
    }
   ],
   "source": [
    "plt.figure(figsize=(10,8))\n",
    "plt.subplot(1,2,1)\n",
    "plt.imshow(test_in[0])\n",
    "plt.subplot(1,2,2)\n",
    "plt.imshow(test_val[0])\n",
    "plt.show()"
   ]
  }
 ],
 "metadata": {
  "kernelspec": {
   "display_name": "Python (tensorflow_env)",
   "language": "python",
   "name": "tensorflow_env"
  },
  "language_info": {
   "codemirror_mode": {
    "name": "ipython",
    "version": 3
   },
   "file_extension": ".py",
   "mimetype": "text/x-python",
   "name": "python",
   "nbconvert_exporter": "python",
   "pygments_lexer": "ipython3",
   "version": "3.12.1"
  }
 },
 "nbformat": 4,
 "nbformat_minor": 5
}
